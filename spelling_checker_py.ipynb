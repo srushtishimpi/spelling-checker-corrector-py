{
 "cells": [
  {
   "cell_type": "markdown",
   "id": "0544f17e-c3d5-46ea-8820-f2171c912b86",
   "metadata": {},
   "source": [
    "# 🔤 Spell Check and Correction in Python: A Beginner-Friendly Guide\n",
    "---\n",
    "\n",
    "### [By Srushti Shimpi](https://github.com/srushtishimpi)\n",
    "\n",
    "---\n",
    "Spell checking is a practical feature in applications where users enter text — think of notepads, editors, or even chat apps. If you're planning to build such a tool, adding spell correction can significantly improve user experience.\n",
    "\n",
    "In this tutorial, you’ll learn how to implement **spell correction in Python** using a simple and effective tool. We’ll use the **`pyspellchecker`** library, a straightforward Python module designed for detecting and fixing spelling errors.\n",
    "\n",
    "---\n",
    "\n",
    "## ✅ Installing the Required Library\n",
    "\n",
    "First, install the `pyspellchecker` package using the following command in your terminal or command prompt:\n",
    "\n",
    "```bash\n",
    "pip install pyspellchecker\n",
    "```"
   ]
  },
  {
   "cell_type": "markdown",
   "id": "f5f83be9-293f-43a9-a895-e23cac3cc2f1",
   "metadata": {},
   "source": [
    "---\n",
    "\n",
    "## 🐍 Spell Correction with Python\n",
    "\n",
    "The `pyspellchecker` module makes it easy to detect and fix spelling mistakes in any given text.\n",
    "\n",
    "---"
   ]
  },
  {
   "cell_type": "markdown",
   "id": "23aefd57-1b81-4979-bff9-37a82d2d57e1",
   "metadata": {},
   "source": [
    "## ➡️ Steps to Correct Spellings in Python\n",
    "\n",
    "---\n",
    "\n",
    "### 🔹 Step 1: Import the Library"
   ]
  },
  {
   "cell_type": "code",
   "execution_count": 1,
   "id": "6970ee7c-0639-4119-846e-f5178f5d448d",
   "metadata": {},
   "outputs": [],
   "source": [
    "from spellchecker import SpellChecker"
   ]
  },
  {
   "cell_type": "markdown",
   "id": "7933fa52-3abc-46e7-98c4-ddf108c1a7fe",
   "metadata": {},
   "source": [
    "### 🔹 Step 2: Initialize the SpellChecker"
   ]
  },
  {
   "cell_type": "code",
   "execution_count": 2,
   "id": "740dce4b-608c-4546-834b-9b7a5d79ba4d",
   "metadata": {},
   "outputs": [],
   "source": [
    "correct = SpellChecker()"
   ]
  },
  {
   "cell_type": "markdown",
   "id": "9fe78695-93e9-41fe-8dbc-fcfe69e04b86",
   "metadata": {},
   "source": [
    "### 🔹 Step 3: Input Text"
   ]
  },
  {
   "cell_type": "code",
   "execution_count": 3,
   "id": "fe709608-491b-43f8-956a-0d5c1a362cd7",
   "metadata": {},
   "outputs": [
    {
     "name": "stdin",
     "output_type": "stream",
     "text": [
      "Enter a Word :  June is a monht of Loev.\n"
     ]
    }
   ],
   "source": [
    "text = input(\"Enter a Word : \")"
   ]
  },
  {
   "cell_type": "markdown",
   "id": "258dc4cb-ea3d-4ca6-9625-4cca12c024f6",
   "metadata": {},
   "source": [
    "### 🔹 Step 4: Tokenize the Text"
   ]
  },
  {
   "cell_type": "code",
   "execution_count": 4,
   "id": "b98e0107-9759-480a-b55d-20df9a45901a",
   "metadata": {},
   "outputs": [],
   "source": [
    "words = text.split()"
   ]
  },
  {
   "cell_type": "markdown",
   "id": "880fad3b-5d4d-458f-947c-76cea07290c5",
   "metadata": {},
   "source": [
    "### 🔹 Step 5: Identify Misspelled Words"
   ]
  },
  {
   "cell_type": "code",
   "execution_count": 5,
   "id": "bf8273f9-22f1-4477-901c-1d7f963b8a24",
   "metadata": {},
   "outputs": [],
   "source": [
    "misspelled = correct.unknown(words)"
   ]
  },
  {
   "cell_type": "markdown",
   "id": "548164fc-2824-4640-9b03-d0111143656d",
   "metadata": {},
   "source": [
    "### 🔹 Step 6: Suggest and Print Corrections"
   ]
  },
  {
   "cell_type": "code",
   "execution_count": 6,
   "id": "6e7fda1c-6e37-44df-be25-854504db1967",
   "metadata": {},
   "outputs": [
    {
     "name": "stdout",
     "output_type": "stream",
     "text": [
      "Incorrect word in this text: monht -> Correct Spelling is: month\n",
      "Incorrect word in this text: loev. -> Correct Spelling is: love\n"
     ]
    }
   ],
   "source": [
    "for word in misspelled:\n",
    "    correct_word = correct.correction(word)\n",
    "    print(f\"Incorrect word in this text: {word} -> Correct Spelling is: {correct_word}\")"
   ]
  },
  {
   "cell_type": "markdown",
   "id": "0adfeb1b-c516-4db2-9c29-9109e8e5a279",
   "metadata": {},
   "source": [
    "\n",
    "\n",
    "---\n",
    "\n",
    "\n",
    "## 📋 Step Summary Table\n",
    "\n",
    "| Step | Description                               | Code/Method                         |\n",
    "|------|-------------------------------------------|-------------------------------------|\n",
    "| 1    | Import the SpellChecker class             | `from spellchecker import SpellChecker` |\n",
    "| 2    | Initialize the SpellChecker object        | `correct = SpellChecker()`           |\n",
    "| 3    | Define input text                         | `text = \"This is a smple text with sme misspelt wrds.\"` |\n",
    "| 4    | Split the text into individual words      | `words = text.split()`             |\n",
    "| 5    | Identify the misspelled words             | `correct.unknown(words)`             |\n",
    "| 6    | Suggest and print corrections             | `correct.correction(word)`           |\n",
    "\n",
    "---"
   ]
  },
  {
   "cell_type": "markdown",
   "id": "bca99c8e-2089-465a-867f-a49523250d20",
   "metadata": {},
   "source": [
    "## 🔧 Alternatives to `pyspellchecker`\n",
    "\n",
    "Here are some other popular Python libraries for spell checking and correction:\n",
    "\n",
    "| Library       | Description                                                                 | Use Case / Strengths                                  |\n",
    "|---------------|-----------------------------------------------------------------------------|--------------------------------------------------------|\n",
    "| **TextBlob**  | A simple NLP library that includes spell checking, sentiment analysis, etc. | Great for quick NLP tasks and beginners                |\n",
    "| **autocorrect** | Lightweight spell corrector using statistical frequency models              | Fast and easy to integrate into chat or text apps      |\n",
    "| **SymSpell**  | High-performance spell checker using edit distance and frequency dictionary | Extremely fast for large-scale or real-time applications |\n",
    "| **Hunspell**  | Widely-used open-source spell checker supporting multiple dictionaries       | Suitable for multilingual support (used in LibreOffice)|\n",
    "| **JamSpell**  | Neural network-based spelling correction library                            | Good for advanced context-aware corrections            |\n",
    "\n",
    "---"
   ]
  },
  {
   "cell_type": "markdown",
   "id": "53ffec5d-06e3-4289-8858-186c4cca629c",
   "metadata": {},
   "source": [
    "## 📌 Summary\n",
    "\n",
    "- Spell checking is a useful feature for applications where users write or edit content.\n",
    "- Python offers simple tools to implement this, with `pyspellchecker` being one of the easiest to start with.\n",
    "- Using `pyspellchecker`, you can:\n",
    "  - Detect misspelled words in a text\n",
    "  - Suggest the most likely correct spellings\n",
    "- The process involves importing the module, initializing the checker, identifying incorrect words, and suggesting corrections.\n",
    "- For more advanced needs, you can explore other libraries like `TextBlob`, `autocorrect`, or `SymSpell`.\n",
    "\n",
    "✅ Whether you’re building a notepad app, a chatbot, or a custom text editor — adding spell correction improves usability and professionalism.\n",
    "\n",
    "---"
   ]
  }
 ],
 "metadata": {
  "kernelspec": {
   "display_name": "Python 3 (ipykernel)",
   "language": "python",
   "name": "python3"
  },
  "language_info": {
   "codemirror_mode": {
    "name": "ipython",
    "version": 3
   },
   "file_extension": ".py",
   "mimetype": "text/x-python",
   "name": "python",
   "nbconvert_exporter": "python",
   "pygments_lexer": "ipython3",
   "version": "3.12.9"
  }
 },
 "nbformat": 4,
 "nbformat_minor": 5
}
